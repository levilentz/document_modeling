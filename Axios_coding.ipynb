{
 "cells": [
  {
   "cell_type": "code",
   "execution_count": 1,
   "metadata": {},
   "outputs": [],
   "source": [
    "import pandas as pd\n",
    "from typing import List\n",
    "import numpy as np\n",
    "from nltk.stem import PorterStemmer, SnowballStemmer, LancasterStemmer #Three stemmers for data simplification\n",
    "from nltk.tokenize import sent_tokenize, word_tokenize # Tokenizers for data cleaning\n",
    "from nltk.corpus import stopwords\n",
    "from sklearn.feature_extraction.text import TfidfVectorizer\n",
    "import re\n",
    "import matplotlib.pyplot as plt\n",
    "stop_words = set(stopwords.words('english'))\n",
    "%matplotlib inline"
   ]
  },
  {
   "cell_type": "code",
   "execution_count": 2,
   "metadata": {},
   "outputs": [
    {
     "name": "stdout",
     "output_type": "stream",
     "text": [
      "Axios_coding.ipynb   nytimes articles.csv\r\n"
     ]
    }
   ],
   "source": [
    "! ls"
   ]
  },
  {
   "cell_type": "code",
   "execution_count": 3,
   "metadata": {},
   "outputs": [],
   "source": [
    "df = pd.read_csv('nytimes articles.csv')"
   ]
  },
  {
   "cell_type": "code",
   "execution_count": 4,
   "metadata": {},
   "outputs": [],
   "source": [
    "def remove_stopwords(strTokens, stopWords=stop_words):\n",
    "    if strTokens is not None:\n",
    "        return [j.strip().lower() for j in strTokens if j.strip().lower() not in stopWords and re.match('^[A-Za-z]*$',j)]\n",
    "    return strTokens\n",
    "\n",
    "def tokenize(strToken):\n",
    "    if strToken == strToken:\n",
    "        return [word for sent in sent_tokenize(strToken) for word in word_tokenize(sent)]\n",
    "    return []\n",
    "\n",
    "def stemmer(tokens:List[str], stemmerFxn):\n",
    "    return [stemmerFxn.stem(j) for j in tokens]\n",
    "\n",
    "def getAuthors(authString, regFilter=r\"\\sand\\s|,\\s\"):\n",
    "    if authString == authString:\n",
    "        return [j for j in re.split(regFilter, authString) if len(j) > 0]\n",
    "    return []\n",
    "\n",
    "def tokenizeThenStemm(strToken, stopWords=stop_words, stemmerFxn=SnowballStemmer('english')):\n",
    "    if strToken == strToken:\n",
    "        return stemmer(remove_stopwords(tokenize(strToken), stopWords=stop_words), stemmerFxn)\n",
    "    return []\n",
    "#sns = SnowballStemmer('english')\n",
    "#output = [sns.stem(j) for j in word_tokenize(smple)]"
   ]
  },
  {
   "cell_type": "code",
   "execution_count": 5,
   "metadata": {},
   "outputs": [],
   "source": [
    "# output\n"
   ]
  },
  {
   "cell_type": "markdown",
   "metadata": {},
   "source": [
    "### first we look at the stemmedTitle and stemmedContent to get word frequency information"
   ]
  },
  {
   "cell_type": "code",
   "execution_count": 20,
   "metadata": {},
   "outputs": [],
   "source": [
    "stemmedTitleContent = (df.title + \" \" + df.content).apply(lambda x: tokenizeThenStemm(x, stopWords=stop_words, stemmerFxn=SnowballStemmer('english')))"
   ]
  },
  {
   "cell_type": "code",
   "execution_count": 21,
   "metadata": {},
   "outputs": [],
   "source": [
    "word_counts = stemmedTitleContent.apply(pd.Series).stack().reset_index(drop=True)\n",
    "value_counts = word_counts.value_counts()"
   ]
  },
  {
   "cell_type": "code",
   "execution_count": 22,
   "metadata": {},
   "outputs": [
    {
     "data": {
      "text/plain": [
       "<matplotlib.axes._subplots.AxesSubplot at 0x1a34dc19b0>"
      ]
     },
     "execution_count": 22,
     "metadata": {},
     "output_type": "execute_result"
    },
    {
     "data": {
      "image/png": "[encoded data removed]",
      "text/plain": [
       "<Figure size 432x288 with 1 Axes>"
      ]
     },
     "metadata": {
      "needs_background": "light"
     },
     "output_type": "display_data"
    }
   ],
   "source": [
    "wordProb = 100*(value_counts/value_counts.sum())\n",
    "(100-wordProb.cumsum()).plot()"
   ]
  },
  {
   "cell_type": "markdown",
   "metadata": {},
   "source": [
    "### Removing the following words as they occur at the highest rate. \n",
    "\n",
    "If this were more rigorous, this would be statistically calculated. We will also only take the top 80% of words"
   ]
  },
  {
   "cell_type": "code",
   "execution_count": null,
   "metadata": {},
   "outputs": [],
   "source": [
    "stop_words.add('said')\n",
    "stop_words.add('trump')"
   ]
  },
  {
   "cell_type": "code",
   "execution_count": null,
   "metadata": {},
   "outputs": [],
   "source": [
    "trainingData = df.copy()\n",
    "trainingData['authors'] = trainingData.author.apply(lambda x: getAuthors(x))\n",
    "trainingData['titleToken'] = trainingData.title.apply(lambda x: remove_stopwords(tokenize(x)))\n",
    "trainingData['contentToken'] = trainingData.content.apply(lambda x: remove_stopwords(tokenize(x)))"
   ]
  },
  {
   "cell_type": "markdown",
   "metadata": {},
   "source": [
    "## For the training we will be using TF-IDF with ngrams\n",
    "\n",
    "This gives a sense of the word frequency while preserving the document information into the training matrix. As we have a small corpus, we will be using 1-3 ngrams and using the top 80% of probable words "
   ]
  },
  {
   "cell_type": "code",
   "execution_count": null,
   "metadata": {},
   "outputs": [],
   "source": [
    "# tfidf_vectorizer = TfidfVectorizer(tokenizer=tokenizeThenStemm)\n",
    "tfidf_vectorizer = TfidfVectorizer(ngram_range=(1,3), tokenizer=tokenizeThenStemm,max_features=wordProb.cumsum()[wordProb.cumsum() < 80.].shape[0])\n",
    "contentFeatures = tfidf_vectorizer.fit_transform(trainingData[trainingData.content.notna()].content)"
   ]
  },
  {
   "cell_type": "markdown",
   "metadata": {},
   "source": [
    "## Training"
   ]
  },
  {
   "cell_type": "markdown",
   "metadata": {},
   "source": [
    "### Kmeans clustering\n",
    "\n",
    "A simple clustering algorithm that can be learned is the K-Means clustering. This is a distance-measure clustering algorithm. As we would expect articles that have similar themes to have similar features, this is a good place to start"
   ]
  },
  {
   "cell_type": "code",
   "execution_count": 11,
   "metadata": {},
   "outputs": [],
   "source": [
    "from sklearn.cluster import KMeans\n",
    "from sklearn.cluster import MiniBatchKMeans #we will be using MiniBatchKMeans because of time constraints\n",
    "from scipy.spatial.distance import cdist"
   ]
  },
  {
   "cell_type": "markdown",
   "metadata": {},
   "source": [
    "### Determining the number of clusters to use\n",
    "\n",
    "In this case we will be using the elbow method. This requires us to train a model for each of the cluters we are interested in, here 1-20"
   ]
  },
  {
   "cell_type": "code",
   "execution_count": 12,
   "metadata": {},
   "outputs": [
    {
     "name": "stdout",
     "output_type": "stream",
     "text": [
      "1\n",
      "2\n",
      "3\n",
      "4\n",
      "5\n",
      "6\n",
      "7\n",
      "8\n",
      "9\n",
      "10\n",
      "11\n",
      "12\n",
      "13\n",
      "14\n",
      "15\n",
      "16\n",
      "17\n",
      "18\n",
      "19\n",
      "20\n"
     ]
    }
   ],
   "source": [
    "kmeansModels = []\n",
    "distortions = []\n",
    "for num_clusters in range(1,21):\n",
    "    print(num_clusters)\n",
    "    KM = MiniBatchKMeans(n_clusters=num_clusters)\n",
    "    KM.fit(contentFeatures)\n",
    "    #trainingData[f'km_{num_clusters}'] = KM.labels_.tolist()\n",
    "    kmeansModels.append(KM)"
   ]
  },
  {
   "cell_type": "markdown",
   "metadata": {},
   "source": [
    "### Elbow method\n",
    "\n",
    "Generally we would like to see an elbow in the plot in some way, or a discontinuity in the 'inertia' of the cluster models. It appears that a smal elbow happesn at 12 clusters, though more time should be spend making sure the feature space is reprecentative of the training."
   ]
  },
  {
   "cell_type": "code",
   "execution_count": 14,
   "metadata": {},
   "outputs": [
    {
     "data": {
      "text/plain": [
       "<matplotlib.axes._subplots.AxesSubplot at 0x111cbdc88>"
      ]
     },
     "execution_count": 14,
     "metadata": {},
     "output_type": "execute_result"
    },
    {
     "data": {
      "image/png": "[encoded data removed]",
      "text/plain": [
       "<Figure size 432x288 with 1 Axes>"
      ]
     },
     "metadata": {
      "needs_background": "light"
     },
     "output_type": "display_data"
    }
   ],
   "source": [
    "elbow_plot = [{'x':i[0],'y':i[1].inertia_} for i in zip(range(5,21),kmeansModels)]\n",
    "pd.DataFrame(elbow_plot).plot(x='x',y='y')"
   ]
  },
  {
   "cell_type": "markdown",
   "metadata": {},
   "source": [
    "### Determinging cluster counts and names\n",
    "\n",
    "Here we manually select 12 clusters (12 - 1 in the list), and calculate their id followed by their cluster \"name\" determined by the highest 3 words in the cluster"
   ]
  },
  {
   "cell_type": "code",
   "execution_count": 15,
   "metadata": {},
   "outputs": [
    {
     "data": {
      "text/plain": [
       "1     703\n",
       "8     471\n",
       "3     386\n",
       "10    290\n",
       "6     173\n",
       "11    115\n",
       "5      96\n",
       "7      76\n",
       "0      62\n",
       "9      46\n",
       "2      44\n",
       "4      25\n",
       "Name: km, dtype: int64"
      ]
     },
     "execution_count": 15,
     "metadata": {},
     "output_type": "execute_result"
    }
   ],
   "source": [
    "predictData = trainingData[trainingData.content.notna()].copy()\n",
    "predictData['km'] = kmeansModels[11].labels_\n",
    "predictData['km'].value_counts()"
   ]
  },
  {
   "cell_type": "code",
   "execution_count": 18,
   "metadata": {},
   "outputs": [],
   "source": [
    "cluster_names = {}\n",
    "for i in predictData['km'].value_counts().index:\n",
    "    clusters_ = predictData[predictData.km == i].titleToken.apply(pd.Series).stack().reset_index(drop=True).value_counts().index\n",
    "    cluster_names[i] = tuple(clusters_[j] for j in range(0,3))"
   ]
  },
  {
   "cell_type": "code",
   "execution_count": 19,
   "metadata": {},
   "outputs": [
    {
     "data": {
      "text/plain": [
       "{1: ('trump', 'new', 'california'),\n",
       " 8: ('trump', 'briefing', 'evening'),\n",
       " 3: ('trump', 'new', 'women'),\n",
       " 10: ('new', 'dies', 'review'),\n",
       " 6: ('trump', 'health', 'gorsuch'),\n",
       " 11: ('syria', 'trump', 'attack'),\n",
       " 5: ('trump', 'russia', 'russian'),\n",
       " 7: ('china', 'trump', 'briefing'),\n",
       " 0: ('israel', 'trump', 'prison'),\n",
       " 9: ('police', 'new', 'attack'),\n",
       " 2: ('korea', 'north', 'south'),\n",
       " 4: ('brexit', 'may', 'independence')}"
      ]
     },
     "execution_count": 19,
     "metadata": {},
     "output_type": "execute_result"
    }
   ],
   "source": [
    "cluster_names"
   ]
  },
  {
   "cell_type": "markdown",
   "metadata": {},
   "source": [
    "## Hierarchacle clustering"
   ]
  },
  {
   "cell_type": "code",
   "execution_count": 612,
   "metadata": {},
   "outputs": [],
   "source": [
    "from sklearn.cluster import AgglomerativeClustering"
   ]
  },
  {
   "cell_type": "code",
   "execution_count": 613,
   "metadata": {},
   "outputs": [
    {
     "data": {
      "text/plain": [
       "AgglomerativeClustering(affinity='euclidean', compute_full_tree='auto',\n",
       "            connectivity=None, linkage='ward', memory=None, n_clusters=14,\n",
       "            pooling_func='deprecated')"
      ]
     },
     "execution_count": 613,
     "metadata": {},
     "output_type": "execute_result"
    }
   ],
   "source": [
    "aggModel = AgglomerativeClustering(n_clusters=14)\n",
    "aggModel.fit(contentFeatures.toarray())"
   ]
  },
  {
   "cell_type": "code",
   "execution_count": 614,
   "metadata": {},
   "outputs": [],
   "source": [
    "predictData['ag'] = aggModel.labels_"
   ]
  },
  {
   "cell_type": "code",
   "execution_count": 615,
   "metadata": {},
   "outputs": [
    {
     "data": {
      "text/plain": [
       "5     437\n",
       "1     373\n",
       "2     339\n",
       "3     302\n",
       "6     184\n",
       "13    170\n",
       "4     148\n",
       "0     135\n",
       "10    124\n",
       "7      72\n",
       "9      69\n",
       "8      60\n",
       "11     41\n",
       "12     33\n",
       "Name: ag, dtype: int64"
      ]
     },
     "execution_count": 615,
     "metadata": {},
     "output_type": "execute_result"
    }
   ],
   "source": [
    "predictData.ag.value_counts()"
   ]
  },
  {
   "cell_type": "code",
   "execution_count": 616,
   "metadata": {},
   "outputs": [],
   "source": [
    "cluster_names = {}\n",
    "for i in predictData['ag'].value_counts().index:\n",
    "    cluster_names[i] = predictData[predictData.km == i].titleToken.apply(pd.Series).stack().reset_index(drop=True).value_counts().index[1]"
   ]
  },
  {
   "cell_type": "code",
   "execution_count": 617,
   "metadata": {},
   "outputs": [
    {
     "data": {
      "text/plain": [
       "{5: 'north',\n",
       " 1: 'briefing',\n",
       " 2: 'new',\n",
       " 3: 'review',\n",
       " 6: 'men',\n",
       " 13: 'attack',\n",
       " 4: 'ban',\n",
       " 0: 'senate',\n",
       " 10: 'trump',\n",
       " 7: 'trump',\n",
       " 9: 'trump',\n",
       " 8: 'carolina',\n",
       " 11: 'trump',\n",
       " 12: 'court'}"
      ]
     },
     "execution_count": 617,
     "metadata": {},
     "output_type": "execute_result"
    }
   ],
   "source": [
    "cluster_names"
   ]
  },
  {
   "cell_type": "code",
   "execution_count": 560,
   "metadata": {},
   "outputs": [],
   "source": [
    "# Merging Title to Article"
   ]
  },
  {
   "cell_type": "code",
   "execution_count": 621,
   "metadata": {},
   "outputs": [],
   "source": [
    "tfidf_vectorizer = TfidfVectorizer(min_df=0.05,ngram_range=(1,3), tokenizer=tokenizeThenStemm, max_features=300)\n",
    "title_content = trainingData.title + trainingData.content\n",
    "contentFeatures = tfidf_vectorizer.fit_transform(title_content[title_content.notna()])"
   ]
  },
  {
   "cell_type": "code",
   "execution_count": 622,
   "metadata": {},
   "outputs": [
    {
     "data": {
      "text/plain": [
       "['accord',\n",
       " 'act',\n",
       " 'ad',\n",
       " 'administr',\n",
       " 'advis',\n",
       " 'agenc',\n",
       " 'ago',\n",
       " 'allow',\n",
       " 'alreadi',\n",
       " 'also',\n",
       " 'america',\n",
       " 'american',\n",
       " 'among',\n",
       " 'announc',\n",
       " 'anoth',\n",
       " 'appear',\n",
       " 'around',\n",
       " 'ask',\n",
       " 'attack',\n",
       " 'author',\n",
       " 'away',\n",
       " 'back',\n",
       " 'becom',\n",
       " 'began',\n",
       " 'believ',\n",
       " 'best',\n",
       " 'big',\n",
       " 'bill',\n",
       " 'black',\n",
       " 'book',\n",
       " 'brief',\n",
       " 'build',\n",
       " 'busi',\n",
       " 'call',\n",
       " 'came',\n",
       " 'campaign',\n",
       " 'care',\n",
       " 'case',\n",
       " 'center',\n",
       " 'chang',\n",
       " 'charg',\n",
       " 'chief',\n",
       " 'children',\n",
       " 'china',\n",
       " 'citi',\n",
       " 'clear',\n",
       " 'close',\n",
       " 'come',\n",
       " 'committe',\n",
       " 'compani',\n",
       " 'concern',\n",
       " 'conserv',\n",
       " 'continu',\n",
       " 'could',\n",
       " 'countri',\n",
       " 'court',\n",
       " 'creat',\n",
       " 'critic',\n",
       " 'day',\n",
       " 'deal',\n",
       " 'decis',\n",
       " 'democrat',\n",
       " 'depart',\n",
       " 'develop',\n",
       " 'differ',\n",
       " 'direct',\n",
       " 'director',\n",
       " 'earli',\n",
       " 'effort',\n",
       " 'elect',\n",
       " 'end',\n",
       " 'even',\n",
       " 'everi',\n",
       " 'execut',\n",
       " 'expect',\n",
       " 'face',\n",
       " 'famili',\n",
       " 'far',\n",
       " 'feder',\n",
       " 'feel',\n",
       " 'find',\n",
       " 'first',\n",
       " 'follow',\n",
       " 'forc',\n",
       " 'foreign',\n",
       " 'former',\n",
       " 'found',\n",
       " 'four',\n",
       " 'friday',\n",
       " 'friend',\n",
       " 'game',\n",
       " 'general',\n",
       " 'get',\n",
       " 'give',\n",
       " 'go',\n",
       " 'good',\n",
       " 'govern',\n",
       " 'great',\n",
       " 'group',\n",
       " 'happen',\n",
       " 'head',\n",
       " 'health',\n",
       " 'help',\n",
       " 'high',\n",
       " 'home',\n",
       " 'hope',\n",
       " 'hour',\n",
       " 'hous',\n",
       " 'immigr',\n",
       " 'import',\n",
       " 'includ',\n",
       " 'increas',\n",
       " 'inform',\n",
       " 'intellig',\n",
       " 'interest',\n",
       " 'intern',\n",
       " 'interview',\n",
       " 'investig',\n",
       " 'issu',\n",
       " 'job',\n",
       " 'judg',\n",
       " 'keep',\n",
       " 'kill',\n",
       " 'know',\n",
       " 'known',\n",
       " 'larg',\n",
       " 'last',\n",
       " 'last year',\n",
       " 'later',\n",
       " 'law',\n",
       " 'lead',\n",
       " 'leader',\n",
       " 'least',\n",
       " 'leav',\n",
       " 'left',\n",
       " 'less',\n",
       " 'life',\n",
       " 'like',\n",
       " 'line',\n",
       " 'littl',\n",
       " 'live',\n",
       " 'long',\n",
       " 'look',\n",
       " 'lot',\n",
       " 'made',\n",
       " 'major',\n",
       " 'make',\n",
       " 'man',\n",
       " 'manag',\n",
       " 'mani',\n",
       " 'market',\n",
       " 'may',\n",
       " 'media',\n",
       " 'meet',\n",
       " 'member',\n",
       " 'men',\n",
       " 'might',\n",
       " 'militari',\n",
       " 'million',\n",
       " 'monday',\n",
       " 'money',\n",
       " 'month',\n",
       " 'move',\n",
       " 'much',\n",
       " 'name',\n",
       " 'nation',\n",
       " 'near',\n",
       " 'need',\n",
       " 'never',\n",
       " 'new',\n",
       " 'new york',\n",
       " 'news',\n",
       " 'next',\n",
       " 'night',\n",
       " 'north',\n",
       " 'number',\n",
       " 'obama',\n",
       " 'offer',\n",
       " 'offic',\n",
       " 'offici',\n",
       " 'often',\n",
       " 'one',\n",
       " 'open',\n",
       " 'oper',\n",
       " 'order',\n",
       " 'organ',\n",
       " 'other',\n",
       " 'part',\n",
       " 'parti',\n",
       " 'past',\n",
       " 'pay',\n",
       " 'peopl',\n",
       " 'percent',\n",
       " 'person',\n",
       " 'place',\n",
       " 'plan',\n",
       " 'play',\n",
       " 'point',\n",
       " 'polic',\n",
       " 'polici',\n",
       " 'polit',\n",
       " 'possibl',\n",
       " 'post',\n",
       " 'power',\n",
       " 'presid',\n",
       " 'presid trump',\n",
       " 'program',\n",
       " 'protect',\n",
       " 'provid',\n",
       " 'public',\n",
       " 'put',\n",
       " 'question',\n",
       " 'realli',\n",
       " 'receiv',\n",
       " 'recent',\n",
       " 'relat',\n",
       " 'remain',\n",
       " 'report',\n",
       " 'repres',\n",
       " 'republican',\n",
       " 'research',\n",
       " 'respons',\n",
       " 'return',\n",
       " 'right',\n",
       " 'rule',\n",
       " 'run',\n",
       " 'russia',\n",
       " 'russian',\n",
       " 'said',\n",
       " 'say',\n",
       " 'school',\n",
       " 'secretari',\n",
       " 'secur',\n",
       " 'see',\n",
       " 'seem',\n",
       " 'senat',\n",
       " 'servic',\n",
       " 'set',\n",
       " 'sever',\n",
       " 'show',\n",
       " 'sign',\n",
       " 'sinc',\n",
       " 'someth',\n",
       " 'south',\n",
       " 'start',\n",
       " 'state',\n",
       " 'statement',\n",
       " 'still',\n",
       " 'stori',\n",
       " 'student',\n",
       " 'studi',\n",
       " 'suggest',\n",
       " 'support',\n",
       " 'system',\n",
       " 'take',\n",
       " 'talk',\n",
       " 'tax',\n",
       " 'team',\n",
       " 'thing',\n",
       " 'think',\n",
       " 'though',\n",
       " 'three',\n",
       " 'time',\n",
       " 'told',\n",
       " 'took',\n",
       " 'top',\n",
       " 'trade',\n",
       " 'travel',\n",
       " 'tri',\n",
       " 'trump',\n",
       " 'tuesday',\n",
       " 'turn',\n",
       " 'twitter',\n",
       " 'two',\n",
       " 'unit',\n",
       " 'unit state',\n",
       " 'univers',\n",
       " 'us',\n",
       " 'use',\n",
       " 'view',\n",
       " 'vote',\n",
       " 'want',\n",
       " 'war',\n",
       " 'washington',\n",
       " 'way',\n",
       " 'wednesday',\n",
       " 'week',\n",
       " 'well',\n",
       " 'whether',\n",
       " 'white',\n",
       " 'white hous',\n",
       " 'whose',\n",
       " 'without',\n",
       " 'women',\n",
       " 'work',\n",
       " 'world',\n",
       " 'would',\n",
       " 'wrote',\n",
       " 'year',\n",
       " 'york']"
      ]
     },
     "execution_count": 622,
     "metadata": {},
     "output_type": "execute_result"
    }
   ],
   "source": [
    "tfidf_vectorizer.get_feature_names()"
   ]
  },
  {
   "cell_type": "code",
   "execution_count": 623,
   "metadata": {},
   "outputs": [
    {
     "name": "stdout",
     "output_type": "stream",
     "text": [
      "1\n",
      "2\n",
      "3\n",
      "4\n",
      "5\n",
      "6\n",
      "7\n",
      "8\n",
      "9\n",
      "10\n",
      "11\n",
      "12\n",
      "13\n",
      "14\n",
      "15\n",
      "16\n",
      "17\n",
      "18\n",
      "19\n",
      "20\n"
     ]
    }
   ],
   "source": [
    "kmeansModels = []\n",
    "distortions = []\n",
    "for num_clusters in range(1,21):\n",
    "    print(num_clusters)\n",
    "    KM = MiniBatchKMeans(n_clusters=num_clusters)\n",
    "    KM.fit(contentFeatures)\n",
    "    #trainingData[f'km_{num_clusters}'] = KM.labels_.tolist()\n",
    "    kmeansModels.append(KM)"
   ]
  },
  {
   "cell_type": "code",
   "execution_count": 624,
   "metadata": {},
   "outputs": [
    {
     "data": {
      "text/plain": [
       "<matplotlib.axes._subplots.AxesSubplot at 0x1a324e59e8>"
      ]
     },
     "execution_count": 624,
     "metadata": {},
     "output_type": "execute_result"
    },
    {
     "data": {
      "image/png": "[encoded data removed]",
      "text/plain": [
       "<Figure size 432x288 with 1 Axes>"
      ]
     },
     "metadata": {
      "needs_background": "light"
     },
     "output_type": "display_data"
    }
   ],
   "source": [
    "elbow_plot = [{'x':i[0],'y':i[1].inertia_} for i in zip(range(5,21),kmeansModels)]\n",
    "pd.DataFrame(elbow_plot).plot(x='x',y='y')"
   ]
  },
  {
   "cell_type": "code",
   "execution_count": 631,
   "metadata": {},
   "outputs": [
    {
     "data": {
      "text/plain": [
       "14    388\n",
       "3     311\n",
       "10    302\n",
       "15    233\n",
       "6     191\n",
       "4     186\n",
       "8     149\n",
       "2     138\n",
       "7     102\n",
       "13     96\n",
       "1      85\n",
       "0      79\n",
       "9      70\n",
       "5      59\n",
       "11     49\n",
       "12     49\n",
       "Name: km_t_c, dtype: int64"
      ]
     },
     "execution_count": 631,
     "metadata": {},
     "output_type": "execute_result"
    }
   ],
   "source": [
    "predictData = trainingData[trainingData.content.notna()].copy()\n",
    "predictData['km_t_c'] = kmeansModels[15].labels_\n",
    "predictData['km_t_c'].value_counts()"
   ]
  },
  {
   "cell_type": "code",
   "execution_count": 632,
   "metadata": {},
   "outputs": [
    {
     "data": {
      "text/plain": [
       "{14: 'new dies women',\n",
       " 3: 'trump new uber',\n",
       " 10: 'review trump new',\n",
       " 15: 'trump donald news',\n",
       " 6: 'police russia attack',\n",
       " 4: 'trump ban immigration',\n",
       " 8: 'trump house white',\n",
       " 2: 'trump health republicans',\n",
       " 7: 'california today briefing',\n",
       " 13: 'women carolina team',\n",
       " 1: 'city new york',\n",
       " 0: 'court trump gorsuch',\n",
       " 9: 'china trump korea',\n",
       " 5: 'school education student',\n",
       " 11: 'trump fed rate',\n",
       " 12: 'briefing evening trump'}"
      ]
     },
     "execution_count": 632,
     "metadata": {},
     "output_type": "execute_result"
    }
   ],
   "source": [
    "cluster_names = {}\n",
    "for i in predictData['km_t_c'].value_counts().index:\n",
    "    keys = predictData[predictData.km_t_c == i].titleToken.apply(pd.Series).stack().reset_index(drop=True).value_counts().index\n",
    "    cluster_names[i] = ' '.join([keys[jj] for jj in range(0,3)])\n",
    "cluster_names"
   ]
  },
  {
   "cell_type": "code",
   "execution_count": 627,
   "metadata": {},
   "outputs": [],
   "source": [
    "from sklearn.manifold import TSNE"
   ]
  },
  {
   "cell_type": "code",
   "execution_count": 633,
   "metadata": {},
   "outputs": [],
   "source": [
    "X_embedded = TSNE(n_components=2).fit_transform(contentFeatures.toarray())"
   ]
  },
  {
   "cell_type": "code",
   "execution_count": 634,
   "metadata": {},
   "outputs": [],
   "source": [
    "predictData['X'] = X_embedded[:,0]\n",
    "predictData['Y'] = X_embedded[:,1]"
   ]
  },
  {
   "cell_type": "code",
   "execution_count": 635,
   "metadata": {},
   "outputs": [
    {
     "data": {
      "text/plain": [
       "<matplotlib.legend.Legend at 0x1b16969b38>"
      ]
     },
     "execution_count": 635,
     "metadata": {},
     "output_type": "execute_result"
    },
    {
     "data": {
      "image/png": "[encoded data removed]",
      "text/plain": [
       "<Figure size 432x288 with 1 Axes>"
      ]
     },
     "metadata": {
      "needs_background": "light"
     },
     "output_type": "display_data"
    }
   ],
   "source": [
    "for i in predictData.km_t_c.unique():\n",
    "    plt_data = predictData[predictData.km_t_c == i]\n",
    "    plt.scatter(plt_data.X, plt_data.Y, label=i)\n",
    "    \n",
    "plt.legend()"
   ]
  },
  {
   "cell_type": "code",
   "execution_count": null,
   "metadata": {},
   "outputs": [],
   "source": [
    "uniqueAuthors = trainingData.authors.apply(pd.Series).stack().reset_index(drop=True).value_counts()"
   ]
  }
 ],
 "metadata": {
  "kernelspec": {
   "display_name": "Python 3",
   "language": "python",
   "name": "python3"
  },
  "language_info": {
   "codemirror_mode": {
    "name": "ipython",
    "version": 3
   },
   "file_extension": ".py",
   "mimetype": "text/x-python",
   "name": "python",
   "nbconvert_exporter": "python",
   "pygments_lexer": "ipython3",
   "version": "3.7.3"
  }
 },
 "nbformat": 4,
 "nbformat_minor": 2
}
